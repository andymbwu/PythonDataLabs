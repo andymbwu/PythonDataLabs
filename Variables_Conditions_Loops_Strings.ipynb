{
 "cells": [
  {
   "cell_type": "markdown",
   "metadata": {},
   "source": [
    "##### <h1> <center> ENSF 519.01 Programming Fundamentals for Data Engineers </center></h1>\n",
    "<h2> <center> Assignment 1: Variables, Conditions, Loops, and Strings (50 marks)</center></h2>\n",
    "<h3> <center> Due: Wednesday Sep 26th Midnight. To be submitted on D2L. </center></h2>\n",
    "<h3> <center> <font color='red'>IMPORTANT NOTE: each task must be implemented exactly as asked, even if there are other easier or better solutions.</font> </center></h2>\n",
    "\n",
    "<p><center>This Assignment has 2 problems (each may have multiple parts).</center></p>\n",
    "\n"
   ]
  },
  {
   "cell_type": "markdown",
   "metadata": {},
   "source": [
    "# Hand-in Instruction \n",
    "\n",
    "Edit this file and write your solutions to the problems in sections specified with `# Your solution goes here`. Test your code and when you are done, upload this notebook as an `.ipynb` file and submit it to D2L. "
   ]
  },
  {
   "cell_type": "markdown",
   "metadata": {},
   "source": [
    "# Problem 1. Guess My Age (20pts)\n",
    "\n",
    "In this section, you are supposed to write a Python code that guesses the user's age.\n",
    "\n",
    "Your program starts with a random age between 0 and 100. In each step it will print out the guess and asks the user if it is correct. If it had guessed the age correctly, users inputs `YES!` (10pts)\n",
    "\n",
    "If the user is younger than the guessed age, user inputs `younger` and  the program guesses another random age, which must be less than the previous one. (5pts)\n",
    "\n",
    "The same goes when the user is older than the guess. The user will indicate that by entering `older` as input. (5pts)\n",
    "\n",
    "\n",
    "This would go on until your program guesses the correct age of user.\n"
   ]
  },
  {
   "cell_type": "code",
   "execution_count": 1,
   "metadata": {},
   "outputs": [
    {
     "name": "stdout",
     "output_type": "stream",
     "text": [
      "28\n",
      "Is this your correct age? Type 'YES!' if it is, and younger/older if it isn't: older\n",
      "96\n",
      "Is this your correct age? Type 'YES!' if it is, and younger/older if it isn't: YES!\n",
      "Your age is:  96\n"
     ]
    }
   ],
   "source": [
    "from random import randrange\n",
    "randAge = randrange(1,101)\n",
    "print(randAge)\n",
    "upperLimit = 100\n",
    "lowerLimit = 1\n",
    "\n",
    "while True:\n",
    "    userInput = input(\"Is this your correct age? Type 'YES!' if it is, and younger/older if it isn't: \")\n",
    "    if userInput == 'older':\n",
    "        lowerLimit = randAge\n",
    "        randAge = randrange(lowerLimit,upperLimit)\n",
    "        print(randAge)\n",
    "    elif userInput == 'younger':\n",
    "        upperLimit = randAge\n",
    "        randAge = randrange(lowerLimit,upperLimit)\n",
    "        print(randAge)\n",
    "    elif userInput == 'YES!':\n",
    "        break\n",
    "print(\"Your age is: \", randAge)"
   ]
  },
  {
   "cell_type": "markdown",
   "metadata": {},
   "source": [
    "# Problem 2. Date distance (30pts)\n",
    "\n",
    "In this section, you must implement a Python code which gets two dates as input, and calculates the number of days between these two dates. In the following, you can find more details and marking scheme:\n",
    "\n",
    "\n",
    "- You have to get year, month and day in one input (with a proper message) in the following format MM/DD/YY from the user. (2pts)\n",
    "\n",
    "- Make sure that inputs are valid (e.g. the month can't be 35). If they are incorrect, print an error message and ask user to enter a valid number again. Year should be between 1900 and 2100. (8pts)\n",
    "\n",
    "- To get number of days in each month, you can use `monthrange` function provided by python's `calendar` package. Calling `monthrange(year, month)[1]` will give you the number days in the specified month of the year. It automatically takes leap years into account. An example is provided below.\n",
    "\n",
    "- Make sure your code works for any date between year 1990 and 2100. Include the start and end dates. For example for July 10, 2018 and Sep. 02, 2018 as inputs your program should output 55 days as the answer. (10pts)"
   ]
  },
  {
   "cell_type": "code",
   "execution_count": 3,
   "metadata": {},
   "outputs": [
    {
     "data": {
      "text/plain": [
       "31"
      ]
     },
     "execution_count": 3,
     "metadata": {},
     "output_type": "execute_result"
    }
   ],
   "source": [
    "from calendar import monthrange\n",
    "\n",
    "monthrange(2012, 8)[1]"
   ]
  },
  {
   "cell_type": "markdown",
   "metadata": {},
   "source": [
    "## Part A. (20pts)\n",
    "\n",
    "In this part, you have to solve the problem using no other calendar function except `monthrange`."
   ]
  },
  {
   "cell_type": "code",
   "execution_count": 2,
   "metadata": {},
   "outputs": [
    {
     "name": "stdout",
     "output_type": "stream",
     "text": [
      "Please enter the first specified date in the proper format MM/DD/YYYY: 07/10/2018\n",
      "Please enter the second specified date in the proper format MM/DD/YYYY: 09/02/2018\n",
      "The number of days between 07/10/2018 and 09/02/2018 is equal to 54 days.\n"
     ]
    }
   ],
   "source": [
    "from calendar import monthrange\n",
    "firstDate = input(\"Please enter the first specified date in the proper format MM/DD/YYYY: \")\n",
    "secondDate = input(\"Please enter the second specified date in the proper format MM/DD/YYYY: \")\n",
    "\n",
    "firstDateMonth = int(firstDate[0:2])\n",
    "secondDateMonth = int(secondDate[0:2])\n",
    "\n",
    "firstDateDay = int(firstDate[3:5])\n",
    "secondDateDay = int(secondDate[3:5])\n",
    "\n",
    "firstDateYear = int(firstDate[6:])\n",
    "secondDateYear = int(secondDate[6:])\n",
    "\n",
    "daysBetween = 0\n",
    "\n",
    "if firstDateMonth > 12 or firstDateMonth < 1 or secondDateMonth > 31 or secondDateMonth < 1:\n",
    "    print('Month invalid, please try again')\n",
    "else:\n",
    "    if firstDateDay > 31 or firstDateDay < 1 or secondDateDay > 31 or secondDateDay < 1:\n",
    "        print('Day invalid, please try again')\n",
    "    else: \n",
    "        if firstDateYear < 1900 or firstDateYear > 2100 or secondDateYear < 1900 or secondDateYear > 2100:\n",
    "            print('Year invalid, please try again')\n",
    "        else:\n",
    "            if firstDateYear == secondDateYear and firstDateMonth == secondDateMonth:\n",
    "                daysBetween = abs(secondDateDay - firstDateDay)\n",
    "            elif firstDateYear == secondDateYear:\n",
    "                #months between first and last month\n",
    "                for m in range(firstDateMonth + 1, secondDateMonth,1):\n",
    "                    daysBetween = daysBetween + monthrange(firstDateYear,m)[1]\n",
    "                #first and last month\n",
    "                daysFirstMonth = monthrange(firstDateYear, firstDateMonth)[1] - firstDateDay\n",
    "                daysLastMonth = secondDateDay\n",
    "                daysBetween = daysBetween + daysFirstMonth + daysLastMonth\n",
    "            else:\n",
    "                #first and last month\n",
    "                daysFirstMonth = monthrange(firstDateYear, firstDateMonth)[1] - firstDateDay\n",
    "                daysLastMonth = secondDateDay\n",
    "                daysBetween = daysBetween + daysFirstMonth + daysLastMonth\n",
    "\n",
    "                monthsFirstYear = 12 - firstDateMonth\n",
    "                \n",
    "                #first year\n",
    "                if firstDateMonth != 12:\n",
    "                    for j in range(firstDateMonth + 1, 13, 1):\n",
    "                        daysBetween = daysBetween + monthrange(firstDateYear, j)[1]\n",
    "                \n",
    "                #last year\n",
    "                if secondDateMonth != 1:\n",
    "                    for k in range(1, secondDateMonth, 1):\n",
    "                        daysBetween = daysBetween + monthrange(secondDateYear, k)[1]\n",
    "                \n",
    "                #List of leap years - 1900 is not a leap year (exception)\n",
    "                leapYearRange = []\n",
    "                for i in range(1904,2101,4):\n",
    "                    leapYearRange.append(i)\n",
    "                #years in between\n",
    "                for l in range(firstDateYear + 1, secondDateYear, 1):\n",
    "                    if l not in leapYearRange or l == 1900:\n",
    "                        daysBetween = daysBetween + 365\n",
    "                    else:\n",
    "                        daysBetween = daysBetween + 366\n",
    "                        \n",
    "            print(\"The number of days between {0} and {1} is equal to {2} days.\".format(firstDate, secondDate, daysBetween))      "
   ]
  },
  {
   "cell_type": "markdown",
   "metadata": {},
   "source": [
    "## Part B. (10pts)\n",
    "\n",
    "There is a more straightforward way to find the date difference built into Python in `datetime` package. Use `date` function from `datetime` package to find the answer. You can find more information on how to use it on python's documentaion. This solution probably will not exceed 3-4 lines of code (excluding the `input` and `print`s)."
   ]
  },
  {
   "cell_type": "code",
   "execution_count": null,
   "metadata": {
    "collapsed": true
   },
   "outputs": [],
   "source": [
    "from datetime import date\n",
    "\n",
    "firstDateInput = input(\"Please enter the first specified date in the proper format MM/DD/YYYY: \")\n",
    "secondDateInput = input(\"Please enter the second specified date in the proper format MM/DD/YYYY: \")\n",
    "\n",
    "firstDateYear = int(firstDateInput[6:]) \n",
    "firstDateMonth = int(firstDateInput[0:2])\n",
    "firstDateDay = int(firstDateInput[3:5])\n",
    "secondDateYear = int(secondDateInput[6:])\n",
    "secondDateMonth = int(secondDateInput[0:2])   \n",
    "secondDateDay = int(secondDateInput[3:5])\n",
    "\n",
    "if firstDateMonth > 12 or firstDateMonth < 1 or secondDateMonth > 31 or secondDateMonth < 1:\n",
    "    print('Month invalid, please try again')\n",
    "else:\n",
    "    if firstDateDay > 31 or firstDateDay < 1 or secondDateDay > 31 or secondDateDay < 1:\n",
    "        print('Day invalid, please try again')\n",
    "    else: \n",
    "        if firstDateYear < 1900 or firstDateYear > 2100 or secondDateYear < 1900 or secondDateYear > 2100:\n",
    "            print('Year invalid, please try again')\n",
    "        else:\n",
    "            firstDate = date(firstDateYear, firstDateMonth, firstDateDay)\n",
    "            secondDate = date(secondDateYear, secondDateMonth, secondDateDay)\n",
    "\n",
    "            daysBetween = secondDate - firstDate\n",
    "\n",
    "            print(\"The number of days between {0} and {1} is equal to {2} days.\".format(firstDateInput, secondDateInput, daysBetween.days))"
   ]
  }
 ],
 "metadata": {
  "kernelspec": {
   "display_name": "Python 3",
   "language": "python",
   "name": "python3"
  },
  "language_info": {
   "codemirror_mode": {
    "name": "ipython",
    "version": 3
   },
   "file_extension": ".py",
   "mimetype": "text/x-python",
   "name": "python",
   "nbconvert_exporter": "python",
   "pygments_lexer": "ipython3",
   "version": "3.6.6"
  }
 },
 "nbformat": 4,
 "nbformat_minor": 2
}
