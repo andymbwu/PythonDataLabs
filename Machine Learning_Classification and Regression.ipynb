{
 "cells": [
  {
   "cell_type": "markdown",
   "metadata": {},
   "source": [
    "#### <h1> <center> ENSF 519.01 Programming Fundamentals for Data Engineers </center></h1>\n",
    "<h2> <center> Lab 9 (exercise): Introduction to Classification and Regression </center></h2>\n",
    "<h3> <center> This Lab will not be graded.  </center></h3>\n",
    "\n",
    "\n"
   ]
  },
  {
   "cell_type": "markdown",
   "metadata": {},
   "source": [
    "This assignemnt focuses on applying basic classfication and regression techniques in the context of sofware quality."
   ]
  },
  {
   "cell_type": "markdown",
   "metadata": {},
   "source": [
    "<h2>Part A. Defect Prediction</h2>\n",
    "<br>\n",
    "\n",
    "Software quality assurance (SQA) techniques (e.g., testing, code review, etc.) are among the major tasks in software development that try to eliminate software defects, as much as possible, prior to deployment. However, they are also expensive and time consuming. Therefore, it is very beneficial to narrow the scope of SQA to the parts of the software (e.g., files, classes, or even methods) that are defective. Obviously, before applying SQA, the defective parts are unknown, therefore, “software defect prediction” techniques try to use machine learning to predict which parts of the software (e.g., which files) are more likely to be defective. Thus the SQA effort can be proportionally allocated to them (more SQA resources for parts that are predicted to be defective). \n",
    "\n",
    "In Parts A and B you will apply two supervised machine learning techniques to a defect dataset from a software repository, which is belong to a NASA system. The dataset have collected a set of software related metrics from the history of the software, per module. They also recorded the existence of a defect per module. In other words, your feature set is the metrics array and the targets are the existence of defects. \n",
    "\n",
    "The goal is to build a model to predict the target based on the features from the historical data. \n",
    "\n",
    "To read more about the dataset and the features collected see:\n",
    "\n",
    "NASA dataset:http://openscience.us/repo/defect/mccabehalsted/jm1.html\n"
   ]
  },
  {
   "cell_type": "markdown",
   "metadata": {},
   "source": [
    "<h2>Binary Classification </h2>\n",
    "\n",
    "First, you should read the NASA data that is given to you as a .csv file ( NasaData.csv ). Use pandas read_csv function for this.\n",
    "\n",
    "After reading the data, build binary classification models with KNeighborsClassifier, from SKLearn. The model gets metrics as feature set and predicts either a defective (1) or not defective (0) label.\n",
    "\n",
    "Take 75% of data as training set and 25% of it as test set. To eliminate the randomness when splitting the data, you should run each classification technique 30 times with seeds from [1 to 30]. \n",
    "\n",
    "Using model_selection's train_test_split function, randomly select 1/4 of your dataset as training and 3/4 as testset. \n",
    "Calculate accuracies per technique and repeat this for a total of 30 random runs (every run will use a different random seed in train_test_split and return a separate accuracy value per model).\n",
    "\n",
    "Visualize the distribution of the accuracies for each model in a single box plot, where The X_axis is the  classification technique that you've applied and the Y_axis is the accuracies.\n",
    "\n",
    "\n",
    "*** Note1 you must use pandas for both reading from CSV and visualizing boxplots ***\n",
    "<br>\n",
    "\n"
   ]
  },
  {
   "cell_type": "code",
   "execution_count": 3,
   "metadata": {
    "scrolled": false
   },
   "outputs": [
    {
     "data": {
      "text/plain": [
       "Text(0,0.5,'Accuracies')"
      ]
     },
     "execution_count": 3,
     "metadata": {},
     "output_type": "execute_result"
    },
    {
     "data": {
      "image/png": "[encoded data removed]",
      "text/plain": [
       "<Figure size 432x288 with 1 Axes>"
      ]
     },
     "metadata": {
      "needs_background": "light"
     },
     "output_type": "display_data"
    }
   ],
   "source": [
    "## Part A.1. Solution\n",
    "\n",
    "import numpy as np\n",
    "import pandas as pd\n",
    "import matplotlib.pyplot as plt\n",
    "from matplotlib.pyplot import figure\n",
    "from sklearn.model_selection import train_test_split\n",
    "from sklearn.neighbors import KNeighborsClassifier\n",
    "from sklearn.metrics import accuracy_score\n",
    "from sklearn.model_selection import cross_val_score\n",
    "\n",
    "\n",
    "NasaDF = pd.read_csv('NasaData.csv',header = 0)\n",
    "NasaDF.head()\n",
    "\n",
    "X = np.array(NasaDF.iloc[:, :-1])\n",
    "Y = np.array(NasaDF['label'])\n",
    "\n",
    "# X_train, X_test, y_train, y_test = train_test_split(X, Y, test_size=0.25)\n",
    "\n",
    "# knn = KNeighborsClassifier(n_neighbors=971)\n",
    "# knn.fit(X_train,y_train)\n",
    "# print(\"Test set score: {:.2f}\".format(knn.score(X_test,y_test)))\n",
    "# pred = knn.predict(X_test)\n",
    "# print(\"Test set accuracy: {:.2f}\".format(accuracy_score(y_test, pred)))\n",
    " \n",
    "values = []\n",
    "xvalues = [x for x in range (1,31)]\n",
    "for k in range(1,31):\n",
    "    X_train, X_test, y_train, y_test = train_test_split(X, Y, test_size=0.25, random_state=k)\n",
    "    knn = KNeighborsClassifier()\n",
    "    knn.fit(X_train,y_train)\n",
    "    values.append(knn.score(X_test,y_test))\n",
    "\n",
    "# plt.plot(xvalues,values)\n",
    "# plt.xlabel('KNN')\n",
    "# plt.ylabel('Accuracies')\n",
    "# plt.ylim(0,1)\n",
    "# plt.show()\n",
    "    \n",
    "axis=pd.DataFrame({\"KNN\":values}).boxplot(return_type=\"axes\")\n",
    "axis.set_ylim(0,1)\n",
    "axis.set_ylabel('Accuracies')\n",
    "\n",
    "    \n",
    "\n"
   ]
  },
  {
   "cell_type": "markdown",
   "metadata": {},
   "source": [
    "<h2>Part B. KNN complexity tuning </h2>\n",
    "In this part, we want to tune the value k in kNN for our NASA dataset. To do so, you should find a sweet spot that the model is neither overfitted nor underfitted. \n",
    "Here again take the NASA dataset and apply the model_selection's train_test_split with 75% training and 25% test data, but with a fix random_state=42.  \n",
    "\n",
    "Then build a K-Nearest-Neighbors model using k=1,3,5,..,49. Finally, plot the accuracy of your models on the training dataset and the testing dataset, using two lines in one plot.  \n",
    "\n",
    "Using this plot identify what the best value is for k."
   ]
  },
  {
   "cell_type": "code",
   "execution_count": 11,
   "metadata": {},
   "outputs": [
    {
     "data": {
      "image/png": "[encoded data removed]",
      "text/plain": [
       "<Figure size 432x288 with 1 Axes>"
      ]
     },
     "metadata": {
      "needs_background": "light"
     },
     "output_type": "display_data"
    }
   ],
   "source": [
    "## Part B.1. Solution\n",
    "\n",
    "values_test = []\n",
    "values_train = []\n",
    "xvalues = [x for x in range (1,50) if x%2 != 0]\n",
    "for k in xvalues:\n",
    "    X_train, X_test, y_train, y_test = train_test_split(X, Y, test_size=0.25, random_state=42)\n",
    "    knn = KNeighborsClassifier(n_neighbors = k)\n",
    "    knn.fit(X_train,y_train)\n",
    "    values_test.append(knn.score(X_train,y_train))\n",
    "    values_train.append(knn.score(X_test,y_test))\n",
    "    \n",
    "plt.plot(xvalues,values_test,label = 'Test Data')\n",
    "plt.plot(xvalues,values_train, label = 'Training Data')\n",
    "plt.xlabel('Number of Neighbors, K')\n",
    "plt.ylabel('Accuracy')\n",
    "plt.legend()\n",
    "plt.show()\n"
   ]
  },
  {
   "cell_type": "markdown",
   "metadata": {},
   "source": [
    "<h1>Part C. Regression </h1>\n"
   ]
  },
  {
   "cell_type": "markdown",
   "metadata": {},
   "source": [
    "In this section, we will use a new data set which is related to the performance of several CPUs. These CPUs are of different specifications, and you have the estimated relative performance(ERP) metric per CPU, in this data set.\n",
    "\n",
    "columns of data set are as follows:\n",
    "\n",
    "    MYCT: machine cycle time in nanoseconds (integer) \n",
    "    MMIN: minimum main memory in kilobytes (integer) \n",
    "    MMAX: maximum main memory in kilobytes (integer) \n",
    "    CACH: cache memory in kilobytes (integer) \n",
    "    CHMIN: minimum channels in units (integer) \n",
    "    CHMAX: maximum channels in units (integer) \n",
    "    PRP: published relative performance (integer) \n",
    "    ERP: estimated relative performance from the original article (integer)\n",
    "\n"
   ]
  },
  {
   "cell_type": "markdown",
   "metadata": {},
   "source": [
    "Read the data that is given to you as a CSV file (\"CPU_Performance.csv\") and take 75% of it as training set and 25% of it as test set with random_state=42.\n",
    "\n",
    "Use default KNeighborsRegressor, to predict ERP using the other columns as features.\n",
    "\n",
    "To see how good you can predict on new CPUs performance, print the score of the model on training set and test set data.\n",
    "\n",
    "Use the default setup for the models.\n"
   ]
  },
  {
   "cell_type": "code",
   "execution_count": 31,
   "metadata": {},
   "outputs": [
    {
     "name": "stdout",
     "output_type": "stream",
     "text": [
      "Test set predictions:\n",
      "[ 38.8  29.6  28.8 391.4  34.  259.8  42.6  17.8 463.8 215.8  80.  113.\n",
      "  51.   47.6  73.6  23.4  54.   21.  127.8 109.8  56.2  56.2 113.   28.4\n",
      "  18.   49.2  20.4  30.4  21.   50.8 256.4  30.4  63.8  20.6  20.2  42.2\n",
      "  35.2 368.   80.2  29.6 215.8  52.8 127.8 368.  391.4  29.6 368.   30.4\n",
      "  21.   46.6  62.2  20.8  29.6]\n",
      "Test set R^2: 0.61\n",
      "****  Linear Regression Prediction Result  ****\n",
      "\tTraining set score: 0.888\n",
      "\tTest set score: 0.607\n",
      "\n"
     ]
    }
   ],
   "source": [
    "## Part D.1. Solution\n",
    "from sklearn.neighbors import KNeighborsRegressor\n",
    "\n",
    "CpuDF = pd.read_csv('CPU_Performance.csv',header = 0)\n",
    "X = CpuDF.drop(columns=['ERP'])\n",
    "y = CpuDF['ERP']\n",
    "\n",
    "X_train, X_test, y_train, y_test = train_test_split(X,y,test_size = 0.25,random_state=42)\n",
    "\n",
    "reg = KNeighborsRegressor()\n",
    "\n",
    "reg.fit(X_train, y_train)\n",
    "\n",
    "print(\"Test set predictions:\\n{}\".format(reg.predict(X_test)))\n",
    "print(\"Test set R^2: {:.2f}\".format(reg.score(X_test,y_test)))\n",
    "\n",
    "print(\"*\"*4,\" Linear Regression Prediction Result \",\"*\"*4)\n",
    "print(\"\\tTraining set score: {:.3f}\".format(reg.score(X_train, y_train)))\n",
    "print(\"\\tTest set score: {:.3f}\\n\".format(reg.score(X_test, y_test)))"
   ]
  },
  {
   "cell_type": "code",
   "execution_count": null,
   "metadata": {},
   "outputs": [],
   "source": []
  }
 ],
 "metadata": {
  "kernelspec": {
   "display_name": "Python 3",
   "language": "python",
   "name": "python3"
  },
  "language_info": {
   "codemirror_mode": {
    "name": "ipython",
    "version": 3
   },
   "file_extension": ".py",
   "mimetype": "text/x-python",
   "name": "python",
   "nbconvert_exporter": "python",
   "pygments_lexer": "ipython3",
   "version": "3.6.6"
  }
 },
 "nbformat": 4,
 "nbformat_minor": 2
}
